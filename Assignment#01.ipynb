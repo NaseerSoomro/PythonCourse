{
 "cells": [
  {
   "cell_type": "code",
   "execution_count": 1,
   "metadata": {},
   "outputs": [
    {
     "name": "stdout",
     "output_type": "stream",
     "text": [
      "Enter the Radius of Circle to Compute the Area2\n",
      "12.56\n"
     ]
    }
   ],
   "source": [
    "# Program to Computer the Radius of given Circle\n",
    "\n",
    "radius = int (input(\"Enter the Radius of Circle to Compute the Area\"))\n",
    "\n",
    "area = 3.14*(radius*radius)\n",
    "\n",
    "print(area)"
   ]
  },
  {
   "cell_type": "code",
   "execution_count": 2,
   "metadata": {},
   "outputs": [
    {
     "name": "stdout",
     "output_type": "stream",
     "text": [
      "Enter First Value 5\n",
      "Enter Second Value 3\n",
      "8\n"
     ]
    }
   ],
   "source": [
    "# Program to Accept Two User Inputs and Add them in the Output\n",
    "\n",
    "first = int(input(\"Enter First Value \"))\n",
    "second = int(input(\"Enter Second Value \"))\n",
    "\n",
    "result = first + second\n",
    "\n",
    "print(result)"
   ]
  },
  {
   "cell_type": "code",
   "execution_count": 4,
   "metadata": {},
   "outputs": [
    {
     "name": "stdout",
     "output_type": "stream",
     "text": [
      "Enter First Name Naseer\n",
      "Enter Last Name Soomro\n",
      "Soomro Naseer\n"
     ]
    }
   ],
   "source": [
    "# Program to Accept First and Last Name as Input, and Print them as Last and First\n",
    "\n",
    "fname = input(\"Enter First Name \")\n",
    "lname = input(\"Enter Last Name \")\n",
    "\n",
    "print(lname +\" \"+fname)"
   ]
  },
  {
   "cell_type": "code",
   "execution_count": 6,
   "metadata": {},
   "outputs": [
    {
     "name": "stdout",
     "output_type": "stream",
     "text": [
      "Current Time is = 19:39:36 \n",
      "Current Date is = 3-11-2019 \n"
     ]
    }
   ],
   "source": [
    "# Program to Show the Current Date and Time\n",
    "import datetime\n",
    "\n",
    "show = datetime.datetime.now()\n",
    "\n",
    "print(\"Current Time is = %s:%s:%s \" %(show.hour, show.minute, show.second))\n",
    "print(\"Current Date is = %s-%s-%s \" %(show.day, show.month, show.year))"
   ]
  },
  {
   "cell_type": "code",
   "execution_count": 7,
   "metadata": {},
   "outputs": [
    {
     "name": "stdout",
     "output_type": "stream",
     "text": [
      "Twinkle, twinkle, little star,\n",
      "       How I wonder what you are!\n",
      "             Up above the world so high,\n",
      "             Like a diamond in the sky.,\n",
      "Twinkle, twinkle, little star,\n",
      "       How I wonder what you are!\n"
     ]
    }
   ],
   "source": [
    "# Program to Show the Following Result\n",
    "\n",
    "print (\"Twinkle, twinkle, little star,\")\n",
    "print (\"       How I wonder what you are!\")\n",
    "print (\"             Up above the world so high,\")\n",
    "print (\"             Like a diamond in the sky.,\")\n",
    "print (\"Twinkle, twinkle, little star,\")\n",
    "print (\"       How I wonder what you are!\")"
   ]
  },
  {
   "cell_type": "code",
   "execution_count": null,
   "metadata": {},
   "outputs": [],
   "source": []
  },
  {
   "cell_type": "code",
   "execution_count": null,
   "metadata": {},
   "outputs": [],
   "source": []
  },
  {
   "cell_type": "code",
   "execution_count": null,
   "metadata": {},
   "outputs": [],
   "source": []
  },
  {
   "cell_type": "code",
   "execution_count": null,
   "metadata": {},
   "outputs": [],
   "source": []
  }
 ],
 "metadata": {
  "kernelspec": {
   "display_name": "Python 3",
   "language": "python",
   "name": "python3"
  },
  "language_info": {
   "codemirror_mode": {
    "name": "ipython",
    "version": 3
   },
   "file_extension": ".py",
   "mimetype": "text/x-python",
   "name": "python",
   "nbconvert_exporter": "python",
   "pygments_lexer": "ipython3",
   "version": "3.7.4"
  }
 },
 "nbformat": 4,
 "nbformat_minor": 2
}
