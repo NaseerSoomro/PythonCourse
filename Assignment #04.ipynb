{
 "cells": [
  {
   "cell_type": "code",
   "execution_count": 21,
   "metadata": {},
   "outputs": [
    {
     "name": "stdout",
     "output_type": "stream",
     "text": [
      "\t\t Original Key_Value Pairs\n",
      "first_name   Naseer Ali\n",
      "last_name   Soomro\n",
      "Age   20\n",
      "City   N.F\n",
      "\n",
      " \t\t Key_Value Pairs after updating one pair\n",
      "first_name   Naseer Ali\n",
      "last_name   Soomro\n",
      "Age   20\n",
      "City   N.F\n",
      "Qualification   Intermediate\n",
      "\n",
      " \t\t Key_Value Pairs after deleting one pair\n",
      "first_name   Naseer Ali\n",
      "last_name   Soomro\n",
      "Age   20\n",
      "City   N.F\n"
     ]
    }
   ],
   "source": [
    "# Qno:1\n",
    "naseer = {\n",
    "    \"first_name\" : \"Naseer Ali\", \n",
    "    \"last_name\" : \"Soomro\",\n",
    "    \"Age\" : 20,\n",
    "    \"City\" : \"N.F\"\n",
    "}\n",
    "print(\"\\t\\t Original Key_Value Pairs\")\n",
    "for i, j in naseer.items():\n",
    "    print(i, \" \", j)\n",
    "new = {\n",
    "    \"Qualification\" : \"Intermediate\"\n",
    "}\n",
    "naseer.update(new)\n",
    "print(\"\\n\",\"\\t\\t Key_Value Pairs after updating one pair\")\n",
    "for i, j in naseer.items():\n",
    "    print(i, \" \",j)\n",
    "\n",
    "del naseer[\"Qualification\"]\n",
    "print(\"\\n\",\"\\t\\t Key_Value Pairs after deleting one pair\")\n",
    "for i, j in naseer.items():\n",
    "    print(i,\" \",j)"
   ]
  },
  {
   "cell_type": "code",
   "execution_count": 46,
   "metadata": {},
   "outputs": [
    {
     "name": "stdout",
     "output_type": "stream",
     "text": [
      "Karachi\n",
      "Country   Pakistan\n",
      "Population   2 Millions\n",
      "Fact   City of Lights\n",
      "Dhaka\n",
      "Country   Bangladesh\n",
      "Population   50 Lakh\n",
      "Fact   City of Thousand Lakes\n",
      "Colombo\n",
      "Country   Srilanka\n",
      "Population   50 Lakh\n",
      "Fact   City of Flowers\n"
     ]
    }
   ],
   "source": [
    "# Qno:2\n",
    "cities = {\n",
    "    0:{\n",
    "    \"name\" : \"Karachi\" ,\n",
    "    \"name1\" : \"Dhaka\",\n",
    "    \"name2\" : \"Colombo\"\n",
    "    },\n",
    "    1:{\n",
    "    \"Country\" : \"Pakistan\",\n",
    "    \"Population\" : \"14.91 Millions\",\n",
    "    \"Fact\" : \"Sixth Big City of the World\"\n",
    "    },\n",
    "    2:{\n",
    "    \"Country\" : \"Bangladesh\",\n",
    "    \"Population\" : \"8.906 Millions\",\n",
    "    \"Fact\" : \"Largest Metropolises of South Asia\"\n",
    "    },\n",
    "    3:{\n",
    "    \"Country\" : \"Srilanka\",\n",
    "    \"Population\" : \"2.3 Millions\",\n",
    "    \"Fact\" : \"Largest City of Srilanka\"\n",
    "    }\n",
    "}\n",
    "print(cities[0][\"name\"])\n",
    "for i, j in cities[1].items():\n",
    "    print(i, \" \",j)\n",
    "print(cities[0][\"name1\"])\n",
    "for i, j in cities[2].items():\n",
    "    print(i, \" \",j)\n",
    "print(cities[0][\"name2\"])\n",
    "for i, j in cities[3].items():\n",
    "    print(i, \" \",j)\n"
   ]
  },
  {
   "cell_type": "code",
   "execution_count": 6,
   "metadata": {},
   "outputs": [
    {
     "name": "stdout",
     "output_type": "stream",
     "text": [
      "Enter your Age 2\n",
      "Your ticket is Free\n",
      "Enter your Age 6\n",
      "Your ticket is of $10\n",
      "Enter your Age 14\n",
      "Your ticket is of $15\n"
     ]
    }
   ],
   "source": [
    "# Qno:3\n",
    "counter = 0\n",
    "while counter < 3:\n",
    "    age = int(input(\"Enter your Age \"))\n",
    "    counter +=1\n",
    "    if age < 3:\n",
    "        print(\"Your ticket is Free\")\n",
    "    elif age >=3 and age <=12:\n",
    "        print(\"Your ticket is of $10\")\n",
    "    else:\n",
    "        print(\"Your ticket is of $15\")"
   ]
  },
  {
   "cell_type": "code",
   "execution_count": 1,
   "metadata": {},
   "outputs": [
    {
     "name": "stdout",
     "output_type": "stream",
     "text": [
      "One of my favorite books is Smart Way Python\n"
     ]
    }
   ],
   "source": [
    "# Qno:4\n",
    "def favorite_book(title): # One Positional Parameter\n",
    "    print(\"One of my favorite books is\",title,)\n",
    "title = \"Smart Way Python\"\n",
    "favorite_book(title) # One Positional Argument"
   ]
  },
  {
   "cell_type": "code",
   "execution_count": 5,
   "metadata": {},
   "outputs": [
    {
     "name": "stdout",
     "output_type": "stream",
     "text": [
      "Enter Number to Guess the Correct Random Number 5\n",
      "You Guessed Lower, Random Number is 23\n",
      "Enter Number to Guess the Correct Random Number 7\n",
      "You Got it! Random Number is 7\n",
      "Enter Number to Guess the Correct Random Number 6\n",
      "You Guessed Lower, Random Number is 8\n"
     ]
    }
   ],
   "source": [
    "# Qno:5\n",
    "import random\n",
    "counter = 0\n",
    "while counter < 3: # Scope of While loop is startin\n",
    "    guess = int(input(\"Enter Number to Guess the Correct Random Number \"))\n",
    "    number = random.randint(1,30)\n",
    "    counter += 1\n",
    "    if guess == number:\n",
    "        print(\"You Got it! Random Number is\",number)\n",
    "    elif guess > number:\n",
    "        print(\"You Guessed Higher, Random Number is\",number)\n",
    "    elif guess < number:\n",
    "        print(\"You Guessed Lower, Random Number is\",number)\n"
   ]
  },
  {
   "cell_type": "code",
   "execution_count": null,
   "metadata": {},
   "outputs": [],
   "source": []
  }
 ],
 "metadata": {
  "kernelspec": {
   "display_name": "Python 3",
   "language": "python",
   "name": "python3"
  },
  "language_info": {
   "codemirror_mode": {
    "name": "ipython",
    "version": 3
   },
   "file_extension": ".py",
   "mimetype": "text/x-python",
   "name": "python",
   "nbconvert_exporter": "python",
   "pygments_lexer": "ipython3",
   "version": "3.7.4"
  }
 },
 "nbformat": 4,
 "nbformat_minor": 2
}
