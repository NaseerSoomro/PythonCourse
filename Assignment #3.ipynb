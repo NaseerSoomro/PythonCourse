{
 "cells": [
  {
   "cell_type": "code",
   "execution_count": 4,
   "metadata": {},
   "outputs": [
    {
     "name": "stdout",
     "output_type": "stream",
     "text": [
      "Enter First Value 10\n",
      "Enter Second Value 30\n",
      "Press any Operator *\n",
      "Multuplication is  300.0\n"
     ]
    }
   ],
   "source": [
    "#1 Calculator using python\n",
    "\n",
    "firstno = float(input(\"Enter First Value \"))\n",
    "secondno = float(input(\"Enter Second Value \"))\n",
    "op = input(\"Press any Operator \")\n",
    "if op == '+':\n",
    "    print(\"Addition is \",firstno + secondno)\n",
    "elif op == '-':\n",
    "    print(\"Subtraction is \",firstno - secondno)\n",
    "elif op == '*':\n",
    "    print(\"Multuplication is \",firstno * secondno)\n",
    "elif op == '/':\n",
    "    print(\"Division is \",firstno / secondno)\n",
    "else:\n",
    "    print(\"Enter Correct Operator from these \\n '+' '-' '*' '/'\")"
   ]
  },
  {
   "cell_type": "code",
   "execution_count": 19,
   "metadata": {},
   "outputs": [
    {
     "name": "stdout",
     "output_type": "stream",
     "text": [
      "30\n",
      "40\n",
      "10.2\n"
     ]
    }
   ],
   "source": [
    "#2 program to check the numeric value in list\n",
    "\n",
    "List = [30,40,\"Naseer\",True,10.2]\n",
    "\n",
    "for ele in List:\n",
    "    if (type(ele)==int):\n",
    "        print(ele)\n",
    "    if type(ele)==float:\n",
    "        print(ele)"
   ]
  },
  {
   "cell_type": "code",
   "execution_count": 38,
   "metadata": {},
   "outputs": [
    {
     "name": "stdout",
     "output_type": "stream",
     "text": [
      "{'Student': 'Naseer', 'Age': 20, 'City': 'NF', 'DOB': 1999}\n"
     ]
    }
   ],
   "source": [
    "#3 Program to Add Key in Dictionary\n",
    "\n",
    "dict = {'Student':'Naseer',\"Age\":20,\"City\":'NF'}\n",
    "dict.update({'DOB':1999})\n",
    "print(dict)"
   ]
  },
  {
   "cell_type": "code",
   "execution_count": 49,
   "metadata": {},
   "outputs": [
    {
     "name": "stdout",
     "output_type": "stream",
     "text": [
      "62\n",
      "dict_values([18, 20, 24])\n",
      "dict_keys(['Age1', 'Age2', 'Age3'])\n"
     ]
    }
   ],
   "source": [
    "#4 Program to sum all numeric values in the list\n",
    "\n",
    "dict = {\"Age1\":18, \"Age2\":20, \"Age3\":24}\n",
    "my_age = 0\n",
    "for age in dict:\n",
    "    my_age = my_age+dict[age]\n",
    "print(my_age)\n",
    "print(dict.values())\n",
    "print(dict.keys())"
   ]
  },
  {
   "cell_type": "code",
   "execution_count": null,
   "metadata": {},
   "outputs": [],
   "source": [
    " dict = {\"Age1\":18, \"Age2\":20, \"Age3\":24}\n",
    "my_age = 0\n",
    "for age in dict:\n",
    "    my_age = my_age+dict[age]\n",
    "print(my_age)"
   ]
  },
  {
   "cell_type": "code",
   "execution_count": 52,
   "metadata": {},
   "outputs": [
    {
     "name": "stdout",
     "output_type": "stream",
     "text": [
      "Item1 Already Exists\n"
     ]
    }
   ],
   "source": [
    "#6 Program to Identify the key is already exist in dictionary\n",
    "\n",
    "dict = {\"Item1\":20,\"Item2\":30,\"Item3\":20}\n",
    "i = \"Item1\"\n",
    "if i in dict:\n",
    "    print(i,\"Already Exists\")\n",
    "else:\n",
    "    print(\"Do not exist\")"
   ]
  },
  {
   "cell_type": "code",
   "execution_count": null,
   "metadata": {},
   "outputs": [],
   "source": []
  }
 ],
 "metadata": {
  "kernelspec": {
   "display_name": "Python 3",
   "language": "python",
   "name": "python3"
  },
  "language_info": {
   "codemirror_mode": {
    "name": "ipython",
    "version": 3
   },
   "file_extension": ".py",
   "mimetype": "text/x-python",
   "name": "python",
   "nbconvert_exporter": "python",
   "pygments_lexer": "ipython3",
   "version": "3.7.4"
  }
 },
 "nbformat": 4,
 "nbformat_minor": 2
}
