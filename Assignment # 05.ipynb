{
 "cells": [
  {
   "cell_type": "code",
   "execution_count": 2,
   "metadata": {},
   "outputs": [
    {
     "name": "stdout",
     "output_type": "stream",
     "text": [
      "Enter any Number 6\n",
      "Factorial of  6  is  720\n"
     ]
    }
   ],
   "source": [
    "# Qno 1\n",
    "def fact(facto):\n",
    "    i = facto\n",
    "    k = i\n",
    "    for j in range(facto):\n",
    "        facto -=1\n",
    "        \n",
    "        if facto == 0:\n",
    "            break\n",
    "        k = k * facto\n",
    "    print(\"Factorial of \",i,\" is \",k)\n",
    "        \n",
    "\n",
    "fact(facto = int(input(\"Enter any Number \")))"
   ]
  },
  {
   "cell_type": "code",
   "execution_count": 3,
   "metadata": {},
   "outputs": [
    {
     "name": "stdout",
     "output_type": "stream",
     "text": [
      "Enter Any String naSEeR\n",
      "Capital Letters are  3 in naSEeR\n",
      "Small Letters are  3 in naSEeR\n"
     ]
    }
   ],
   "source": [
    "# Qno 2\n",
    "def counter(name):\n",
    "    count = 0\n",
    "    counter = 0\n",
    "    for i in name:\n",
    "        if i == i.upper():\n",
    "            count+=1\n",
    "        elif i == i.lower():\n",
    "            counter+=1\n",
    "    print(\"Capital Letters are \",count,\"in\",name)\n",
    "    print(\"Small Letters are \",counter,\"in\",name)\n",
    "\n",
    "counter(name = input(\"Enter Any String \"))"
   ]
  },
  {
   "cell_type": "code",
   "execution_count": 14,
   "metadata": {},
   "outputs": [
    {
     "name": "stdout",
     "output_type": "stream",
     "text": [
      "Even Number are  10\n",
      "Even Number are  20\n",
      "Even Number are  90\n"
     ]
    }
   ],
   "source": [
    "# Qno 3\n",
    "def ListOfNums(*nums):\n",
    "    for i in nums:\n",
    "        if i%2==0:\n",
    "            print(\"Even Number are \",i)\n",
    "ListOfNums(10,20,31,49,43,90)"
   ]
  },
  {
   "cell_type": "code",
   "execution_count": 13,
   "metadata": {},
   "outputs": [
    {
     "name": "stdout",
     "output_type": "stream",
     "text": [
      "Enter Any String madam\n",
      "madam is Palindrome\n"
     ]
    }
   ],
   "source": [
    "# Qno 4\n",
    "def isPalindrome(inp):\n",
    "    if(inp==inp[::-1]):\n",
    "        print(inp, \"is Palindrome\")\n",
    "    else:\n",
    "        print(inp,\"is not Palindrome\")\n",
    "isPalindrome(inp = input(\"Enter Any String \"))"
   ]
  },
  {
   "cell_type": "code",
   "execution_count": 4,
   "metadata": {},
   "outputs": [
    {
     "name": "stdout",
     "output_type": "stream",
     "text": [
      "Enter Any Number 5\n",
      "5 is Prime Number\n"
     ]
    }
   ],
   "source": [
    "# Qno 5\n",
    "def Number(user):\n",
    "    for i in range(2,user//2):\n",
    "        if user % i == 0:\n",
    "            print(user,\"is not Prime Number\")\n",
    "            break\n",
    "    else:\n",
    "        print(user,\"is Prime Number\")\n",
    "\n",
    "Number(user = int(input(\"Enter Any Number \")))"
   ]
  },
  {
   "cell_type": "code",
   "execution_count": 2,
   "metadata": {},
   "outputs": [
    {
     "name": "stdout",
     "output_type": "stream",
     "text": [
      "Enter Shoping Items -- Press 0 to End Shoes\n",
      "You Purchased: Shoes\n",
      "Enter Shoping Items -- Press 0 to End Polish\n",
      "You Purchased: Shoes\n",
      "You Purchased: Polish\n",
      "Enter Shoping Items -- Press 0 to End Car\n",
      "You Purchased: Shoes\n",
      "You Purchased: Polish\n",
      "You Purchased: Car\n",
      "Enter Shoping Items -- Press 0 to End bike\n",
      "You Purchased: Shoes\n",
      "You Purchased: Polish\n",
      "You Purchased: Car\n",
      "You Purchased: bike\n",
      "Enter Shoping Items -- Press 0 to End 0\n",
      "['Shoes', 'Polish', 'Car', 'bike']\n"
     ]
    }
   ],
   "source": [
    "# Qno 6\n",
    "def shoping(*items):\n",
    "    shoping = []\n",
    "    while True:\n",
    "        items = input(\"Enter Shoping Items -- Press 0 to End \")\n",
    "        if items != '0':\n",
    "            shoping.append(items)\n",
    "        else:\n",
    "            break\n",
    "        for items in range(len(shoping)):\n",
    "            print(\"You Purchased:\",(shoping[items]))\n",
    "    print(shoping)\n",
    "    \n",
    "shoping()"
   ]
  }
 ],
 "metadata": {
  "kernelspec": {
   "display_name": "Python 3",
   "language": "python",
   "name": "python3"
  },
  "language_info": {
   "codemirror_mode": {
    "name": "ipython",
    "version": 3
   },
   "file_extension": ".py",
   "mimetype": "text/x-python",
   "name": "python",
   "nbconvert_exporter": "python",
   "pygments_lexer": "ipython3",
   "version": "3.7.4"
  }
 },
 "nbformat": 4,
 "nbformat_minor": 2
}
