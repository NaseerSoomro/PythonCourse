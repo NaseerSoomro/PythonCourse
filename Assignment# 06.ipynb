{
 "cells": [
  {
   "cell_type": "code",
   "execution_count": null,
   "metadata": {},
   "outputs": [],
   "source": [
    "# Qno 1\n",
    "\n",
    "Object-oriented programming: \n",
    "    \n",
    "    As the name suggests, Object-Oriented Programming \n",
    "    or OOPs refers to languages that uses objects in programming. \n",
    "    Object-oriented programming aims to implement real-world entities,\n",
    "    like inheritance, hiding, polymorphism, inheritance, etc in programming. \n",
    "    The main aim of OOP is to bind together the data and the functions that \n",
    "    operate on them so that no other part of the code can access this data except \n",
    "    that function."
   ]
  },
  {
   "cell_type": "code",
   "execution_count": null,
   "metadata": {},
   "outputs": [],
   "source": [
    "# Qno 2\n",
    "\n",
    "Advantages of OOP:\n",
    "\n",
    "    1- Reuseability of the code by the help of inheritance\n",
    "    2- Data can be more safe and hidden with encapsulation\n",
    "    3- Easy to understand the code because of real world objects\n",
    "    4- Data Re-usability:- “Write a once and use multiple time” \n",
    "        we can achieve this by using class. Once We Write a class \n",
    "        we can bus it number of time by creating the object for class."
   ]
  },
  {
   "cell_type": "code",
   "execution_count": null,
   "metadata": {},
   "outputs": [],
   "source": [
    "# Qno 3\n",
    "\n",
    "Differece between Function and Method:\n",
    "                    Function\n",
    "    1- In fundamental programming methods are called functions\n",
    "    2- In fundament programming functions can be called after\n",
    "        the defining with only there name\n",
    "        \n",
    "                    Method\n",
    "    1- In OOP functions are called methods\n",
    "    2- In OOP methods can be called outside of that class (Where they are declared)\n",
    "        to another class by creating the object of that class.\n",
    "        and methods are defined with the object. \n"
   ]
  },
  {
   "cell_type": "code",
   "execution_count": null,
   "metadata": {},
   "outputs": [],
   "source": [
    "# Qno 4\n",
    "    Class:\n",
    "        class is the collection of objects and it logically exists.\n",
    "        Example: Human\n",
    "    \n",
    "    Object:\n",
    "        object is the real physically existance of the logical class.\n",
    "        Example: Man, Woman, etc\n",
    "            \n",
    "    Attribute:\n",
    "        attributes are the parts of the any object\n",
    "        Example: Hands, Feet, etc\n",
    "        \n",
    "    Behavior:\n",
    "        behavior is the work of the object parts\n",
    "        Example: Wirte, Walk etc"
   ]
  },
  {
   "cell_type": "code",
   "execution_count": 7,
   "metadata": {},
   "outputs": [
    {
     "name": "stdout",
     "output_type": "stream",
     "text": [
      "Car\n",
      "GLI 2020\n",
      "Grey\n",
      "Suzuki\n",
      "20 Lac Rupees\n"
     ]
    }
   ],
   "source": [
    "# Qno 5\n",
    "\n",
    "class Car():\n",
    "    def __init__(self,name,model,color,company,price):\n",
    "        self.name = name\n",
    "        self.model = model\n",
    "        self.color = color\n",
    "        self.company = company\n",
    "        self.price = price\n",
    "    def method1(self):\n",
    "        self.name\n",
    "    def method2(self):\n",
    "        self.model        \n",
    "    def method3(self):\n",
    "        self.color\n",
    "    def method4(self):\n",
    "        self.company\n",
    "    def method5(self):\n",
    "        self.price\n",
    "\n",
    "car1 = Car(\"Car\",\"XLI 2020\",\"Black\",\"COROLLA\",\"18 Lac Rupees\")\n",
    "car2 = Car(\"Car\",\"GLI 2020\",\"White\",\"COROLLA\",\"18 Lac Rupees\")\n",
    "car3 = Car(\"Car\",\"Mehran 2020\",\"Grey\",\"Suzuki\",\"8 Lac Rupees\")\n",
    "car4 = Car(\"Car\",\"CULTUS 2020\",\"Purple\",\"Suzuki\",\"12 Lac Rupees\")\n",
    "car5 = Car(\"Car\",\"Grandy 2020\",\"Sky-Blue\",\"COROLLA\",\"20 Lac Rupees\")\n",
    "\n",
    "print(car1.name)\n",
    "print(car2.model)\n",
    "print(car3.color)\n",
    "print(car4.company)\n",
    "print(car5.price)"
   ]
  },
  {
   "cell_type": "code",
   "execution_count": null,
   "metadata": {},
   "outputs": [],
   "source": []
  }
 ],
 "metadata": {
  "kernelspec": {
   "display_name": "Python 3",
   "language": "python",
   "name": "python3"
  },
  "language_info": {
   "codemirror_mode": {
    "name": "ipython",
    "version": 3
   },
   "file_extension": ".py",
   "mimetype": "text/x-python",
   "name": "python",
   "nbconvert_exporter": "python",
   "pygments_lexer": "ipython3",
   "version": "3.7.4"
  }
 },
 "nbformat": 4,
 "nbformat_minor": 2
}
