{
 "cells": [
  {
   "cell_type": "code",
   "execution_count": 2,
   "metadata": {},
   "outputs": [
    {
     "name": "stdout",
     "output_type": "stream",
     "text": [
      "Enter Any Number to Identify the Number is Even or Odd 8\n",
      "8  is Even\n"
     ]
    }
   ],
   "source": [
    "#2 Program to Identify the Input is Even or Odd Number\n",
    "\n",
    "number = int(input(\"Enter Any Number to Identify the Number is Even or Odd \"))\n",
    "if number%2==0:\n",
    "    print(number,\" is Even\")\n",
    "else:\n",
    "    print(number,\" is Odd\")"
   ]
  },
  {
   "cell_type": "code",
   "execution_count": 4,
   "metadata": {},
   "outputs": [
    {
     "name": "stdout",
     "output_type": "stream",
     "text": [
      "Length of Array is  4\n"
     ]
    }
   ],
   "source": [
    "#3 Program to Tell the Length of List\n",
    "\n",
    "array = {\"Naseer\",\"Ali\",10,True,10.0}\n",
    "print(\"Length of Array is \",len(array))"
   ]
  },
  {
   "cell_type": "code",
   "execution_count": null,
   "metadata": {},
   "outputs": [],
   "source": []
  },
  {
   "cell_type": "code",
   "execution_count": 12,
   "metadata": {},
   "outputs": [
    {
     "name": "stdout",
     "output_type": "stream",
     "text": [
      "70.1  is the Largest Number in the List\n"
     ]
    }
   ],
   "source": [
    "#4 Program to find out the Largest Value from the List\n",
    "\n",
    "array = (10,20,56,70.1)\n",
    "print(max(array),\" is the Largest Number in the List\")"
   ]
  },
  {
   "cell_type": "code",
   "execution_count": 10,
   "metadata": {},
   "outputs": [
    {
     "name": "stdout",
     "output_type": "stream",
     "text": [
      "55.6\n"
     ]
    }
   ],
   "source": [
    "#5 Program to Sum the all elements in the List\n",
    "\n",
    "array = (10,20,5.6,20)\n",
    "print(sum(array))"
   ]
  },
  {
   "cell_type": "code",
   "execution_count": 13,
   "metadata": {},
   "outputs": [
    {
     "name": "stdout",
     "output_type": "stream",
     "text": [
      "(1, 1, 2, 2, 5)\n"
     ]
    }
   ],
   "source": [
    "#6 Program to Print the elements from th list which are less than 5 index\n",
    "\n",
    "lists = (1,1,2,2,5,10,15)\n",
    "print(lists[:5])"
   ]
  },
  {
   "cell_type": "code",
   "execution_count": 2,
   "metadata": {},
   "outputs": [
    {
     "name": "stdout",
     "output_type": "stream",
     "text": [
      "Enter Total Subjects Marks 500\n",
      "Enter Java Marks 67\n",
      "Enter CPP Marks 98\n",
      "Enter Python Marks 97\n",
      "Enter Sindhi Marks 66\n",
      "Enter Urdu Marks 78\n",
      "Obtained Marks are  406  out of  500\n",
      "Per% is =  81.2\n",
      "A Grade\n"
     ]
    }
   ],
   "source": [
    "total = int(input(\"Enter Total Subjects Marks \"))\n",
    "java = int(input(\"Enter Java Marks \"))\n",
    "cpp = int(input(\"Enter CPP Marks \"))\n",
    "python = int(input(\"Enter Python Marks \"))\n",
    "sindhi = int(input(\"Enter Sindhi Marks \"))\n",
    "urdu = int(input(\"Enter Urdu Marks \"))\n",
    "\n",
    "obt = java+cpp+python+sindhi+urdu\n",
    "per = obt*100/total\n",
    "\n",
    "print(\"Obtained Marks are \",obt,\" out of \",total)\n",
    "print(\"Per% is = \",per)\n",
    "\n",
    "if obt >total and per >100:\n",
    "    print(\"Invalid Obtained Marks \",obt,\" And Per% \",per)\n",
    "    \n",
    "elif obt > 400 and obt <=500:\n",
    "    print(\"A Grade\")\n",
    "elif obt > 300 and obt <= 400:\n",
    "    print(\"B Grade\")\n",
    "elif obt > 250 and obt <=300:\n",
    "    print(\"C Grade\")\n",
    "elif obt >=200 and obt <= 250:\n",
    "    print(\"D Grade\")\n",
    "else:\n",
    "    print(\"Fail\")"
   ]
  },
  {
   "cell_type": "code",
   "execution_count": null,
   "metadata": {},
   "outputs": [],
   "source": []
  }
 ],
 "metadata": {
  "kernelspec": {
   "display_name": "Python 3",
   "language": "python",
   "name": "python3"
  },
  "language_info": {
   "codemirror_mode": {
    "name": "ipython",
    "version": 3
   },
   "file_extension": ".py",
   "mimetype": "text/x-python",
   "name": "python",
   "nbconvert_exporter": "python",
   "pygments_lexer": "ipython3",
   "version": "3.7.4"
  }
 },
 "nbformat": 4,
 "nbformat_minor": 2
}
